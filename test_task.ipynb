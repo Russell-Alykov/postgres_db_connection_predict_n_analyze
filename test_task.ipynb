{
 "cells": [
  {
   "cell_type": "code",
   "execution_count": 153,
   "id": "4b250ef3",
   "metadata": {},
   "outputs": [],
   "source": [
    "import psycopg2\n",
    "import pandas as pd\n",
    "import seaborn as sns\n",
    "\n",
    "from sklearn.linear_model import LinearRegression\n",
    "from datetime import datetime, timedelta"
   ]
  },
  {
   "cell_type": "code",
   "execution_count": 30,
   "id": "b063a078",
   "metadata": {},
   "outputs": [],
   "source": [
    "# Настройка стиля графиков\n",
    "sns.set(\n",
    "    font_scale=2,\n",
    "    style='whitegrid',\n",
    "    rc={'figure.figsize':(25,10)})"
   ]
  },
  {
   "cell_type": "code",
   "execution_count": 2,
   "id": "637f7188",
   "metadata": {
    "scrolled": true
   },
   "outputs": [
    {
     "name": "stdout",
     "output_type": "stream",
     "text": [
      "Database opened successfully\n"
     ]
    }
   ],
   "source": [
    "# Соединение с базой\n",
    "con = psycopg2.connect(\n",
    "    database='test',\n",
    "    user='postgres',\n",
    "    password='testpass',\n",
    "    host='localhost',\n",
    "    port='5432'\n",
    ")\n",
    "print(\"Database opened successfully\")"
   ]
  },
  {
   "cell_type": "code",
   "execution_count": 4,
   "id": "c6b74c7d",
   "metadata": {},
   "outputs": [
    {
     "name": "stdout",
     "output_type": "stream",
     "text": [
      "Table created successfully\n"
     ]
    }
   ],
   "source": [
    "# Создание таблицы\n",
    "cur_1 = con.cursor()  \n",
    "cur_1.execute('''CREATE TABLE public.stock (\n",
    "    id int4 NOT NULL GENERATED ALWAYS AS IDENTITY,\n",
    "    sku varchar NOT NULL,\n",
    "    count float NOT NULL DEFAULT 0,\n",
    "    actual_date timestamp NOT NULL);''')\n",
    "\n",
    "print(\"Table created successfully\")"
   ]
  },
  {
   "cell_type": "code",
   "execution_count": 5,
   "id": "7334c795",
   "metadata": {},
   "outputs": [
    {
     "name": "stdout",
     "output_type": "stream",
     "text": [
      "Table created successfully\n"
     ]
    }
   ],
   "source": [
    "cur_2 = con.cursor()  \n",
    "cur_2.execute('''CREATE TABLE public.costs (\n",
    "    id int4 NOT NULL GENERATED ALWAYS AS IDENTITY,\n",
    "    sku varchar NOT NULL,\n",
    "    cost float NOT NULL DEFAULT 0,\n",
    "    actual_date timestamp NOT NULL);''')\n",
    "\n",
    "print(\"Table created successfully\")"
   ]
  },
  {
   "cell_type": "code",
   "execution_count": 6,
   "id": "5f9f7f32",
   "metadata": {},
   "outputs": [],
   "source": [
    "# Наполнение таблицы данными\n",
    "cur_1.execute(\n",
    "    \"INSERT INTO public.stock (sku, count, actual_date) VALUES ('1000001',500,'2022-12-12 00:00:00');\"\n",
    "    \"INSERT INTO public.stock (sku, count, actual_date) VALUES ('1000002',400,'2022-12-12 00:00:00');\"\n",
    "    \"INSERT INTO public.stock (sku, count, actual_date) VALUES ('1000003',553,'2022-12-12 00:00:00');\"\n",
    "    \"INSERT INTO public.stock (sku, count, actual_date) VALUES ('1000004',110,'2022-12-12 00:00:00');\"\n",
    "    \"INSERT INTO public.stock (sku, count, actual_date) VALUES ('1000001',497,'2022-12-12 03:00:00');\"\n",
    "    \"INSERT INTO public.stock (sku, count, actual_date) VALUES ('1000002',395,'2022-12-12 03:00:00');\"\n",
    "    \"INSERT INTO public.stock (sku, count, actual_date) VALUES ('1000003',552,'2022-12-12 03:00:00');\"\n",
    "    \"INSERT INTO public.stock (sku, count, actual_date) VALUES ('1000004',109,'2022-12-12 03:00:00');\"\n",
    "    \"INSERT INTO public.stock (sku, count, actual_date) VALUES ('1000001',491,'2022-12-12 06:00:00');\"\n",
    "    \"INSERT INTO public.stock (sku, count, actual_date) VALUES ('1000002',385,'2022-12-12 06:00:00');\"\n",
    "    \"INSERT INTO public.stock (sku, count, actual_date) VALUES ('1000003',550,'2022-12-12 06:00:00');\"\n",
    "    \"INSERT INTO public.stock (sku, count, actual_date) VALUES ('1000004',107,'2022-12-12 06:00:00');\"\n",
    "    \"INSERT INTO public.stock (sku, count, actual_date) VALUES ('1000001',482,'2022-12-12 09:00:00');\"\n",
    "    \"INSERT INTO public.stock (sku, count, actual_date) VALUES ('1000002',370,'2022-12-12 09:00:00');\"\n",
    "    \"INSERT INTO public.stock (sku, count, actual_date) VALUES ('1000003',547,'2022-12-12 09:00:00');\"\n",
    "    \"INSERT INTO public.stock (sku, count, actual_date) VALUES ('1000004',104,'2022-12-12 09:00:00');\"\n",
    "    \"INSERT INTO public.stock (sku, count, actual_date) VALUES ('1000001',470,'2022-12-12 12:00:00');\"\n",
    "    \"INSERT INTO public.stock (sku, count, actual_date) VALUES ('1000002',350,'2022-12-12 12:00:00');\"\n",
    "    \"INSERT INTO public.stock (sku, count, actual_date) VALUES ('1000003',543,'2022-12-12 12:00:00');\"\n",
    "    \"INSERT INTO public.stock (sku, count, actual_date) VALUES ('1000004',100,'2022-12-12 12:00:00');\"\n",
    "    \"INSERT INTO public.stock (sku, count, actual_date) VALUES ('1000001',455,'2022-12-12 15:00:00');\"\n",
    "    \"INSERT INTO public.stock (sku, count, actual_date) VALUES ('1000002',325,'2022-12-12 15:00:00');\"\n",
    "    \"INSERT INTO public.stock (sku, count, actual_date) VALUES ('1000003',538,'2022-12-12 15:00:00');\"\n",
    "    \"INSERT INTO public.stock (sku, count, actual_date) VALUES ('1000004',95,'2022-12-12 15:00:00');\"\n",
    "    \"INSERT INTO public.stock (sku, count, actual_date) VALUES ('1000001',437,'2022-12-12 18:00:00');\"\n",
    "    \"INSERT INTO public.stock (sku, count, actual_date) VALUES ('1000002',295,'2022-12-12 18:00:00');\"\n",
    "    \"INSERT INTO public.stock (sku, count, actual_date) VALUES ('1000003',532,'2022-12-12 18:00:00');\"\n",
    "    \"INSERT INTO public.stock (sku, count, actual_date) VALUES ('1000004',89,'2022-12-12 18:00:00');\"\n",
    "    \"INSERT INTO public.stock (sku, count, actual_date) VALUES ('1000001',416,'2022-12-12 21:00:00');\"\n",
    "    \"INSERT INTO public.stock (sku, count, actual_date) VALUES ('1000002',260,'2022-12-12 21:00:00');\"\n",
    "    \"INSERT INTO public.stock (sku, count, actual_date) VALUES ('1000003',525,'2022-12-12 21:00:00');\"\n",
    "    \"INSERT INTO public.stock (sku, count, actual_date) VALUES ('1000004',82,'2022-12-12 21:00:00');\"\n",
    "    \"INSERT INTO public.stock (sku, count, actual_date) VALUES ('1000001',392,'2022-12-13 00:00:00');\"\n",
    "    \"INSERT INTO public.stock (sku, count, actual_date) VALUES ('1000002',220,'2022-12-13 00:00:00');\"\n",
    "    \"INSERT INTO public.stock (sku, count, actual_date) VALUES ('1000003',517,'2022-12-13 00:00:00');\"\n",
    "    \"INSERT INTO public.stock (sku, count, actual_date) VALUES ('1000004',74,'2022-12-13 00:00:00');\"\n",
    "    \"INSERT INTO public.stock (sku, count, actual_date) VALUES ('1000001',365,'2022-12-13 03:00:00');\"\n",
    "    \"INSERT INTO public.stock (sku, count, actual_date) VALUES ('1000002',175,'2022-12-13 03:00:00');\"\n",
    "    \"INSERT INTO public.stock (sku, count, actual_date) VALUES ('1000003',508,'2022-12-13 03:00:00');\"\n",
    "    \"INSERT INTO public.stock (sku, count, actual_date) VALUES ('1000004',65,'2022-12-13 03:00:00');\"\n",
    "    \"INSERT INTO public.stock (sku, count, actual_date) VALUES ('1000001',335,'2022-12-13 06:00:00');\"\n",
    "    \"INSERT INTO public.stock (sku, count, actual_date) VALUES ('1000002',125,'2022-12-13 06:00:00');\"\n",
    "    \"INSERT INTO public.stock (sku, count, actual_date) VALUES ('1000003',498,'2022-12-13 06:00:00');\"\n",
    "    \"INSERT INTO public.stock (sku, count, actual_date) VALUES ('1000004',55,'2022-12-13 06:00:00');\"\n",
    "    \"INSERT INTO public.stock (sku, count, actual_date) VALUES ('1000001',302,'2022-12-13 09:00:00');\"\n",
    "    \"INSERT INTO public.stock (sku, count, actual_date) VALUES ('1000002',500,'2022-12-13 09:00:00');\"\n",
    "    \"INSERT INTO public.stock (sku, count, actual_date) VALUES ('1000003',487,'2022-12-13 09:00:00');\"\n",
    "    \"INSERT INTO public.stock (sku, count, actual_date) VALUES ('1000004',44,'2022-12-13 09:00:00');\"\n",
    "    \"INSERT INTO public.stock (sku, count, actual_date) VALUES ('1000001',266,'2022-12-13 12:00:00');\"\n",
    "    \"INSERT INTO public.stock (sku, count, actual_date) VALUES ('1000002',440,'2022-12-13 12:00:00');\"\n",
    "    \"INSERT INTO public.stock (sku, count, actual_date) VALUES ('1000003',475,'2022-12-13 12:00:00');\"\n",
    "    \"INSERT INTO public.stock (sku, count, actual_date) VALUES ('1000004',32,'2022-12-13 12:00:00');\"\n",
    "    \"INSERT INTO public.stock (sku, count, actual_date) VALUES ('1000001',227,'2022-12-13 15:00:00');\"\n",
    "    \"INSERT INTO public.stock (sku, count, actual_date) VALUES ('1000002',375,'2022-12-13 15:00:00');\"\n",
    "    \"INSERT INTO public.stock (sku, count, actual_date) VALUES ('1000003',462,'2022-12-13 15:00:00');\"\n",
    "    \"INSERT INTO public.stock (sku, count, actual_date) VALUES ('1000004',19,'2022-12-13 15:00:00');\"\n",
    "    \"INSERT INTO public.stock (sku, count, actual_date) VALUES ('1000001',185,'2022-12-13 18:00:00');\"\n",
    "    \"INSERT INTO public.stock (sku, count, actual_date) VALUES ('1000002',305,'2022-12-13 18:00:00');\"\n",
    "    \"INSERT INTO public.stock (sku, count, actual_date) VALUES ('1000003',448,'2022-12-13 18:00:00');\"\n",
    ")"
   ]
  },
  {
   "cell_type": "code",
   "execution_count": 7,
   "id": "2a4a65ca",
   "metadata": {},
   "outputs": [],
   "source": [
    "cur_2.execute(\n",
    "  \"INSERT INTO public.costs (sku, cost, actual_date) VALUES ('1000001',312,'2022-12-12 00:00:00');\"\n",
    "\"INSERT INTO public.costs (sku, cost, actual_date) VALUES ('1000002',1212,'2022-12-12 00:00:00');\"\n",
    "\"INSERT INTO public.costs (sku, cost, actual_date) VALUES ('1000003',472,'2022-12-12 00:00:00');\"\n",
    "\"INSERT INTO public.costs (sku, cost, actual_date) VALUES ('1000004',836,'2022-12-12 00:00:00');\"\n",
    "\"INSERT INTO public.costs (sku, cost, actual_date) VALUES ('1000001',348,'2022-12-12 03:00:00');\"\n",
    "\"INSERT INTO public.costs (sku, cost, actual_date) VALUES ('1000002',1212,'2022-12-12 03:00:00');\"\n",
    "\"INSERT INTO public.costs (sku, cost, actual_date) VALUES ('1000003',412,'2022-12-12 03:00:00');\"\n",
    "\"INSERT INTO public.costs (sku, cost, actual_date) VALUES ('1000004',848,'2022-12-12 03:00:00');\"\n",
    "\"INSERT INTO public.costs (sku, cost, actual_date) VALUES ('1000001',408,'2022-12-12 06:00:00');\"\n",
    "\"INSERT INTO public.costs (sku, cost, actual_date) VALUES ('1000002',1248,'2022-12-12 06:00:00');\"\n",
    "\"INSERT INTO public.costs (sku, cost, actual_date) VALUES ('1000003',412,'2022-12-12 06:00:00');\"\n",
    "\"INSERT INTO public.costs (sku, cost, actual_date) VALUES ('1000004',884,'2022-12-12 06:00:00');\"\n",
    "\"INSERT INTO public.costs (sku, cost, actual_date) VALUES ('1000001',384,'2022-12-12 09:00:00');\"\n",
    "\"INSERT INTO public.costs (sku, cost, actual_date) VALUES ('1000002',1296,'2022-12-12 09:00:00');\"\n",
    "\"INSERT INTO public.costs (sku, cost, actual_date) VALUES ('1000003',496,'2022-12-12 09:00:00');\"\n",
    "\"INSERT INTO public.costs (sku, cost, actual_date) VALUES ('1000004',920,'2022-12-12 09:00:00');\"\n",
    "\"INSERT INTO public.costs (sku, cost, actual_date) VALUES ('1000001',336,'2022-12-12 12:00:00');\"\n",
    "\"INSERT INTO public.costs (sku, cost, actual_date) VALUES ('1000002',1272,'2022-12-12 12:00:00');\"\n",
    "\"INSERT INTO public.costs (sku, cost, actual_date) VALUES ('1000003',436,'2022-12-12 12:00:00');\"\n",
    "\"INSERT INTO public.costs (sku, cost, actual_date) VALUES ('1000004',1154,'2022-12-12 12:00:00');\"\n",
    "\"INSERT INTO public.costs (sku, cost, actual_date) VALUES ('1000001',372,'2022-12-12 15:00:00');\"\n",
    "\"INSERT INTO public.costs (sku, cost, actual_date) VALUES ('1000002',1248,'2022-12-12 15:00:00');\"\n",
    "\"INSERT INTO public.costs (sku, cost, actual_date) VALUES ('1000003',448,'2022-12-12 15:00:00');\"\n",
    "\"INSERT INTO public.costs (sku, cost, actual_date) VALUES ('1000004',824,'2022-12-12 15:00:00');\"\n",
    "\"INSERT INTO public.costs (sku, cost, actual_date) VALUES ('1000001',396,'2022-12-12 18:00:00');\"\n",
    "\"INSERT INTO public.costs (sku, cost, actual_date) VALUES ('1000002',1272,'2022-12-12 18:00:00');\"\n",
    "\"INSERT INTO public.costs (sku, cost, actual_date) VALUES ('1000003',508,'2022-12-12 18:00:00');\"\n",
    "\"INSERT INTO public.costs (sku, cost, actual_date) VALUES ('1000004',872,'2022-12-12 18:00:00');\"\n",
    "\"INSERT INTO public.costs (sku, cost, actual_date) VALUES ('1000001',312,'2022-12-12 21:00:00');\"\n",
    "\"INSERT INTO public.costs (sku, cost, actual_date) VALUES ('1000002',1284,'2022-12-12 21:00:00');\"\n",
    "\"INSERT INTO public.costs (sku, cost, actual_date) VALUES ('1000003',215,'2022-12-12 21:00:00');\"\n",
    "\"INSERT INTO public.costs (sku, cost, actual_date) VALUES ('1000004',872,'2022-12-12 21:00:00');\"\n",
    "\"INSERT INTO public.costs (sku, cost, actual_date) VALUES ('1000001',372,'2022-12-13 00:00:00');\"\n",
    "\"INSERT INTO public.costs (sku, cost, actual_date) VALUES ('1000002',1272,'2022-12-13 00:00:00');\"\n",
    "\"INSERT INTO public.costs (sku, cost, actual_date) VALUES ('1000003',264,'2022-12-13 00:00:00');\"\n",
    "\"INSERT INTO public.costs (sku, cost, actual_date) VALUES ('1000004',812,'2022-12-13 00:00:00');\"\n",
    "\"INSERT INTO public.costs (sku, cost, actual_date) VALUES ('1000001',348,'2022-12-13 03:00:00');\"\n",
    "\"INSERT INTO public.costs (sku, cost, actual_date) VALUES ('1000002',1272,'2022-12-13 03:00:00');\"\n",
    "\"INSERT INTO public.costs (sku, cost, actual_date) VALUES ('1000003',436,'2022-12-13 03:00:00');\"\n",
    "\"INSERT INTO public.costs (sku, cost, actual_date) VALUES ('1000004',908,'2022-12-13 03:00:00');\"\n",
    "\"INSERT INTO public.costs (sku, cost, actual_date) VALUES ('1000001',420,'2022-12-13 06:00:00');\"\n",
    "\"INSERT INTO public.costs (sku, cost, actual_date) VALUES ('1000002',1308,'2022-12-13 06:00:00');\"\n",
    "\"INSERT INTO public.costs (sku, cost, actual_date) VALUES ('1000003',424,'2022-12-13 06:00:00');\"\n",
    "\"INSERT INTO public.costs (sku, cost, actual_date) VALUES ('1000004',860,'2022-12-13 06:00:00');\"\n",
    "\"INSERT INTO public.costs (sku, cost, actual_date) VALUES ('1000001',348,'2022-12-13 09:00:00');\"\n",
    "\"INSERT INTO public.costs (sku, cost, actual_date) VALUES ('1000002',1320,'2022-12-13 09:00:00');\"\n",
    "\"INSERT INTO public.costs (sku, cost, actual_date) VALUES ('1000003',448,'2022-12-13 09:00:00');\"\n",
    "\"INSERT INTO public.costs (sku, cost, actual_date) VALUES ('1000004',812,'2022-12-13 09:00:00');\"\n",
    "\"INSERT INTO public.costs (sku, cost, actual_date) VALUES ('1000001',420,'2022-12-13 12:00:00');\"\n",
    "\"INSERT INTO public.costs (sku, cost, actual_date) VALUES ('1000002',13200,'2022-12-13 12:00:00');\"\n",
    "\"INSERT INTO public.costs (sku, cost, actual_date) VALUES ('1000003',496,'2022-12-13 12:00:00');\"\n",
    "\"INSERT INTO public.costs (sku, cost, actual_date) VALUES ('1000004',860,'2022-12-13 12:00:00');\"\n",
    "\"INSERT INTO public.costs (sku, cost, actual_date) VALUES ('1000001',300,'2022-12-13 15:00:00');\"\n",
    "\"INSERT INTO public.costs (sku, cost, actual_date) VALUES ('1000002',1224,'2022-12-13 15:00:00');\"\n",
    "\"INSERT INTO public.costs (sku, cost, actual_date) VALUES ('1000003',472,'2022-12-13 15:00:00');\"\n",
    "\"INSERT INTO public.costs (sku, cost, actual_date) VALUES ('1000004',848,'2022-12-13 15:00:00');\"\n",
    "\"INSERT INTO public.costs (sku, cost, actual_date) VALUES ('1000001',324,'2022-12-13 18:00:00');\"\n",
    "\"INSERT INTO public.costs (sku, cost, actual_date) VALUES ('1000002',1260,'2022-12-13 18:00:00');\"\n",
    "\"INSERT INTO public.costs (sku, cost, actual_date) VALUES ('1000003',472,'2022-12-13 18:00:00');\"\n",
    ")"
   ]
  },
  {
   "cell_type": "code",
   "execution_count": 9,
   "id": "8eb484b6",
   "metadata": {},
   "outputs": [],
   "source": [
    "# Запросы для импорта в pandas\n",
    "sql_1 = \"select * from stock;\"\n",
    "sql_2 = \"select * from costs;\""
   ]
  },
  {
   "cell_type": "code",
   "execution_count": 96,
   "id": "f78749cb",
   "metadata": {},
   "outputs": [],
   "source": [
    "# Создаем датафреймы из запросов\n",
    "df_stock = pd.read_sql_query(sql_1, con)\n",
    "df_costs = pd.read_sql_query(sql_2, con)"
   ]
  },
  {
   "cell_type": "markdown",
   "id": "08e29c4c",
   "metadata": {},
   "source": [
    "Проверим таблицы на корректность и типы данных"
   ]
  },
  {
   "cell_type": "code",
   "execution_count": 97,
   "id": "9f606d2a",
   "metadata": {},
   "outputs": [
    {
     "data": {
      "text/html": [
       "<div>\n",
       "<style scoped>\n",
       "    .dataframe tbody tr th:only-of-type {\n",
       "        vertical-align: middle;\n",
       "    }\n",
       "\n",
       "    .dataframe tbody tr th {\n",
       "        vertical-align: top;\n",
       "    }\n",
       "\n",
       "    .dataframe thead th {\n",
       "        text-align: right;\n",
       "    }\n",
       "</style>\n",
       "<table border=\"1\" class=\"dataframe\">\n",
       "  <thead>\n",
       "    <tr style=\"text-align: right;\">\n",
       "      <th></th>\n",
       "      <th>id</th>\n",
       "      <th>sku</th>\n",
       "      <th>count</th>\n",
       "      <th>actual_date</th>\n",
       "    </tr>\n",
       "  </thead>\n",
       "  <tbody>\n",
       "    <tr>\n",
       "      <th>0</th>\n",
       "      <td>1</td>\n",
       "      <td>1000001</td>\n",
       "      <td>500.0</td>\n",
       "      <td>2022-12-12 00:00:00</td>\n",
       "    </tr>\n",
       "    <tr>\n",
       "      <th>1</th>\n",
       "      <td>2</td>\n",
       "      <td>1000002</td>\n",
       "      <td>400.0</td>\n",
       "      <td>2022-12-12 00:00:00</td>\n",
       "    </tr>\n",
       "    <tr>\n",
       "      <th>2</th>\n",
       "      <td>3</td>\n",
       "      <td>1000003</td>\n",
       "      <td>553.0</td>\n",
       "      <td>2022-12-12 00:00:00</td>\n",
       "    </tr>\n",
       "    <tr>\n",
       "      <th>3</th>\n",
       "      <td>4</td>\n",
       "      <td>1000004</td>\n",
       "      <td>110.0</td>\n",
       "      <td>2022-12-12 00:00:00</td>\n",
       "    </tr>\n",
       "    <tr>\n",
       "      <th>4</th>\n",
       "      <td>5</td>\n",
       "      <td>1000001</td>\n",
       "      <td>497.0</td>\n",
       "      <td>2022-12-12 03:00:00</td>\n",
       "    </tr>\n",
       "  </tbody>\n",
       "</table>\n",
       "</div>"
      ],
      "text/plain": [
       "   id      sku  count         actual_date\n",
       "0   1  1000001  500.0 2022-12-12 00:00:00\n",
       "1   2  1000002  400.0 2022-12-12 00:00:00\n",
       "2   3  1000003  553.0 2022-12-12 00:00:00\n",
       "3   4  1000004  110.0 2022-12-12 00:00:00\n",
       "4   5  1000001  497.0 2022-12-12 03:00:00"
      ]
     },
     "execution_count": 97,
     "metadata": {},
     "output_type": "execute_result"
    }
   ],
   "source": [
    "df_stock.head()"
   ]
  },
  {
   "cell_type": "code",
   "execution_count": 98,
   "id": "8e310719",
   "metadata": {},
   "outputs": [
    {
     "data": {
      "text/plain": [
       "id                      int64\n",
       "sku                    object\n",
       "count                 float64\n",
       "actual_date    datetime64[ns]\n",
       "dtype: object"
      ]
     },
     "execution_count": 98,
     "metadata": {},
     "output_type": "execute_result"
    }
   ],
   "source": [
    "df_stock.dtypes"
   ]
  },
  {
   "cell_type": "code",
   "execution_count": 99,
   "id": "fec43667",
   "metadata": {},
   "outputs": [
    {
     "data": {
      "text/html": [
       "<div>\n",
       "<style scoped>\n",
       "    .dataframe tbody tr th:only-of-type {\n",
       "        vertical-align: middle;\n",
       "    }\n",
       "\n",
       "    .dataframe tbody tr th {\n",
       "        vertical-align: top;\n",
       "    }\n",
       "\n",
       "    .dataframe thead th {\n",
       "        text-align: right;\n",
       "    }\n",
       "</style>\n",
       "<table border=\"1\" class=\"dataframe\">\n",
       "  <thead>\n",
       "    <tr style=\"text-align: right;\">\n",
       "      <th></th>\n",
       "      <th>id</th>\n",
       "      <th>sku</th>\n",
       "      <th>cost</th>\n",
       "      <th>actual_date</th>\n",
       "    </tr>\n",
       "  </thead>\n",
       "  <tbody>\n",
       "    <tr>\n",
       "      <th>0</th>\n",
       "      <td>1</td>\n",
       "      <td>1000001</td>\n",
       "      <td>312.0</td>\n",
       "      <td>2022-12-12 00:00:00</td>\n",
       "    </tr>\n",
       "    <tr>\n",
       "      <th>1</th>\n",
       "      <td>2</td>\n",
       "      <td>1000002</td>\n",
       "      <td>1212.0</td>\n",
       "      <td>2022-12-12 00:00:00</td>\n",
       "    </tr>\n",
       "    <tr>\n",
       "      <th>2</th>\n",
       "      <td>3</td>\n",
       "      <td>1000003</td>\n",
       "      <td>472.0</td>\n",
       "      <td>2022-12-12 00:00:00</td>\n",
       "    </tr>\n",
       "    <tr>\n",
       "      <th>3</th>\n",
       "      <td>4</td>\n",
       "      <td>1000004</td>\n",
       "      <td>836.0</td>\n",
       "      <td>2022-12-12 00:00:00</td>\n",
       "    </tr>\n",
       "    <tr>\n",
       "      <th>4</th>\n",
       "      <td>5</td>\n",
       "      <td>1000001</td>\n",
       "      <td>348.0</td>\n",
       "      <td>2022-12-12 03:00:00</td>\n",
       "    </tr>\n",
       "  </tbody>\n",
       "</table>\n",
       "</div>"
      ],
      "text/plain": [
       "   id      sku    cost         actual_date\n",
       "0   1  1000001   312.0 2022-12-12 00:00:00\n",
       "1   2  1000002  1212.0 2022-12-12 00:00:00\n",
       "2   3  1000003   472.0 2022-12-12 00:00:00\n",
       "3   4  1000004   836.0 2022-12-12 00:00:00\n",
       "4   5  1000001   348.0 2022-12-12 03:00:00"
      ]
     },
     "execution_count": 99,
     "metadata": {},
     "output_type": "execute_result"
    }
   ],
   "source": [
    "df_costs.head()"
   ]
  },
  {
   "cell_type": "code",
   "execution_count": 100,
   "id": "569d4ec6",
   "metadata": {},
   "outputs": [
    {
     "data": {
      "text/plain": [
       "id                      int64\n",
       "sku                    object\n",
       "cost                  float64\n",
       "actual_date    datetime64[ns]\n",
       "dtype: object"
      ]
     },
     "execution_count": 100,
     "metadata": {},
     "output_type": "execute_result"
    }
   ],
   "source": [
    "df_costs.dtypes"
   ]
  },
  {
   "cell_type": "markdown",
   "id": "ba75c68a",
   "metadata": {},
   "source": [
    "### Задача\n",
    "По данным из таблицы с количеством оставшегося товара необходимо написать прогнозную модель (применяя линейную аппроксимацию), которая по каждому артикулу товара (sku) по имеющимся данным выведет дату и час (в произвольном формате), когда товар на складе закончится."
   ]
  },
  {
   "cell_type": "markdown",
   "id": "5fa9fad2",
   "metadata": {},
   "source": [
    "Посмотрим на график количества товара по дате"
   ]
  },
  {
   "cell_type": "code",
   "execution_count": 101,
   "id": "92b8fdf6",
   "metadata": {},
   "outputs": [
    {
     "data": {
      "text/plain": [
       "<AxesSubplot:xlabel='actual_date', ylabel='count'>"
      ]
     },
     "execution_count": 101,
     "metadata": {},
     "output_type": "execute_result"
    },
    {
     "data": {
      "image/png": "[encoded data removed]",
      "text/plain": [
       "<Figure size 1800x720 with 1 Axes>"
      ]
     },
     "metadata": {},
     "output_type": "display_data"
    }
   ],
   "source": [
    "sns.lineplot(data=df_stock, x='actual_date', y='count', hue='sku')"
   ]
  },
  {
   "cell_type": "markdown",
   "id": "51c3a85c",
   "metadata": {},
   "source": [
    "Для подгонки линии будем использовать метод наименьших квадратов, используем для этого функцию линейной регрессии из **sklearn**"
   ]
  },
  {
   "cell_type": "code",
   "execution_count": 102,
   "id": "161a363e",
   "metadata": {},
   "outputs": [],
   "source": [
    "df_stock = df_stock.sort_values('actual_date', ascending=True)"
   ]
  },
  {
   "cell_type": "code",
   "execution_count": 103,
   "id": "080e1dd4",
   "metadata": {},
   "outputs": [],
   "source": [
    "grouped = df_stock.groupby('sku')"
   ]
  },
  {
   "cell_type": "code",
   "execution_count": 105,
   "id": "31b5fb61",
   "metadata": {},
   "outputs": [
    {
     "name": "stdout",
     "output_type": "stream",
     "text": [
      "sku 1000001: Товар закончится 2022-12-15 04:44:00\n",
      "sku 1000002: Товар закончится 2022-12-24 01:55:23.076923\n",
      "sku 1000003: Товар закончится 2022-12-21 15:16:00\n",
      "sku 1000004: Товар закончится 2022-12-14 08:42:51.428571\n"
     ]
    }
   ],
   "source": [
    "for sku, group in grouped:\n",
    "    # переобразуем в формат timestamp\n",
    "    x = group['actual_date'].apply(lambda x: x.timestamp()).values.reshape(-1, 1)\n",
    "    \n",
    "    y = group['count']\n",
    "    \n",
    "    # Применение модели\n",
    "    predict = LinearRegression().fit(x, y)\n",
    "    \n",
    "    # Формула для нахождения дня когда товар закончится\n",
    "    date_finished = pd.Timestamp.fromtimestamp((0 - predict.intercept_) / predict.coef_[0])\n",
    "    \n",
    "    print(f'sku {sku}: Товар закончится {date_finished}')"
   ]
  },
  {
   "cell_type": "code",
   "execution_count": null,
   "id": "eb571b2e",
   "metadata": {},
   "outputs": [],
   "source": []
  },
  {
   "cell_type": "markdown",
   "id": "c9c1e5b8",
   "metadata": {},
   "source": [
    "### Задание \n",
    "По данным из таблиц с динамикой цен товаров и с количеством оставшегося товара необходимо для первых трех товаров с самым наибольшим остатком на  2022-12-13 18:00:00 необходимо посчитать медианное значение цены за сегодняшний и вчерашний дни.\n"
   ]
  },
  {
   "cell_type": "code",
   "execution_count": 229,
   "id": "24208ea8",
   "metadata": {},
   "outputs": [],
   "source": [
    "df = pd.concat([df_stock, df_costs])"
   ]
  },
  {
   "cell_type": "code",
   "execution_count": 230,
   "id": "13720ca0",
   "metadata": {},
   "outputs": [],
   "source": [
    "df = df_costs.merge(df_stock, on='id')"
   ]
  },
  {
   "cell_type": "code",
   "execution_count": 231,
   "id": "142f9c4f",
   "metadata": {},
   "outputs": [],
   "source": [
    "df = df.drop(columns = ['actual_date_x', 'sku_y'])\\\n",
    "    .rename(columns={'sku_x': 'sku', 'actual_date_y': 'actual_date'})"
   ]
  },
  {
   "cell_type": "code",
   "execution_count": 249,
   "id": "3d5e929d",
   "metadata": {},
   "outputs": [
    {
     "data": {
      "text/html": [
       "<div>\n",
       "<style scoped>\n",
       "    .dataframe tbody tr th:only-of-type {\n",
       "        vertical-align: middle;\n",
       "    }\n",
       "\n",
       "    .dataframe tbody tr th {\n",
       "        vertical-align: top;\n",
       "    }\n",
       "\n",
       "    .dataframe thead th {\n",
       "        text-align: right;\n",
       "    }\n",
       "</style>\n",
       "<table border=\"1\" class=\"dataframe\">\n",
       "  <thead>\n",
       "    <tr style=\"text-align: right;\">\n",
       "      <th></th>\n",
       "      <th>id</th>\n",
       "      <th>sku</th>\n",
       "      <th>cost</th>\n",
       "      <th>count</th>\n",
       "      <th>actual_date</th>\n",
       "    </tr>\n",
       "  </thead>\n",
       "  <tbody>\n",
       "    <tr>\n",
       "      <th>0</th>\n",
       "      <td>1</td>\n",
       "      <td>1000001</td>\n",
       "      <td>312.0</td>\n",
       "      <td>500.0</td>\n",
       "      <td>2022-12-12 00:00:00</td>\n",
       "    </tr>\n",
       "    <tr>\n",
       "      <th>1</th>\n",
       "      <td>2</td>\n",
       "      <td>1000002</td>\n",
       "      <td>1212.0</td>\n",
       "      <td>400.0</td>\n",
       "      <td>2022-12-12 00:00:00</td>\n",
       "    </tr>\n",
       "    <tr>\n",
       "      <th>2</th>\n",
       "      <td>3</td>\n",
       "      <td>1000003</td>\n",
       "      <td>472.0</td>\n",
       "      <td>553.0</td>\n",
       "      <td>2022-12-12 00:00:00</td>\n",
       "    </tr>\n",
       "    <tr>\n",
       "      <th>3</th>\n",
       "      <td>4</td>\n",
       "      <td>1000004</td>\n",
       "      <td>836.0</td>\n",
       "      <td>110.0</td>\n",
       "      <td>2022-12-12 00:00:00</td>\n",
       "    </tr>\n",
       "    <tr>\n",
       "      <th>4</th>\n",
       "      <td>5</td>\n",
       "      <td>1000001</td>\n",
       "      <td>348.0</td>\n",
       "      <td>497.0</td>\n",
       "      <td>2022-12-12 03:00:00</td>\n",
       "    </tr>\n",
       "  </tbody>\n",
       "</table>\n",
       "</div>"
      ],
      "text/plain": [
       "   id      sku    cost  count         actual_date\n",
       "0   1  1000001   312.0  500.0 2022-12-12 00:00:00\n",
       "1   2  1000002  1212.0  400.0 2022-12-12 00:00:00\n",
       "2   3  1000003   472.0  553.0 2022-12-12 00:00:00\n",
       "3   4  1000004   836.0  110.0 2022-12-12 00:00:00\n",
       "4   5  1000001   348.0  497.0 2022-12-12 03:00:00"
      ]
     },
     "execution_count": 249,
     "metadata": {},
     "output_type": "execute_result"
    }
   ],
   "source": [
    "df.head()"
   ]
  },
  {
   "cell_type": "code",
   "execution_count": 232,
   "id": "6bcf1e04",
   "metadata": {},
   "outputs": [
    {
     "data": {
      "text/plain": [
       "(59, 5)"
      ]
     },
     "execution_count": 232,
     "metadata": {},
     "output_type": "execute_result"
    }
   ],
   "source": [
    "df.shape"
   ]
  },
  {
   "cell_type": "code",
   "execution_count": 260,
   "id": "fa194abd",
   "metadata": {},
   "outputs": [
    {
     "data": {
      "text/html": [
       "<div>\n",
       "<style scoped>\n",
       "    .dataframe tbody tr th:only-of-type {\n",
       "        vertical-align: middle;\n",
       "    }\n",
       "\n",
       "    .dataframe tbody tr th {\n",
       "        vertical-align: top;\n",
       "    }\n",
       "\n",
       "    .dataframe thead th {\n",
       "        text-align: right;\n",
       "    }\n",
       "</style>\n",
       "<table border=\"1\" class=\"dataframe\">\n",
       "  <thead>\n",
       "    <tr style=\"text-align: right;\">\n",
       "      <th></th>\n",
       "      <th>id</th>\n",
       "      <th>sku</th>\n",
       "      <th>cost</th>\n",
       "      <th>count</th>\n",
       "      <th>actual_date</th>\n",
       "    </tr>\n",
       "  </thead>\n",
       "  <tbody>\n",
       "    <tr>\n",
       "      <th>56</th>\n",
       "      <td>57</td>\n",
       "      <td>1000001</td>\n",
       "      <td>324.0</td>\n",
       "      <td>185.0</td>\n",
       "      <td>2022-12-13 18:00:00</td>\n",
       "    </tr>\n",
       "    <tr>\n",
       "      <th>57</th>\n",
       "      <td>58</td>\n",
       "      <td>1000002</td>\n",
       "      <td>1260.0</td>\n",
       "      <td>305.0</td>\n",
       "      <td>2022-12-13 18:00:00</td>\n",
       "    </tr>\n",
       "    <tr>\n",
       "      <th>58</th>\n",
       "      <td>59</td>\n",
       "      <td>1000003</td>\n",
       "      <td>472.0</td>\n",
       "      <td>448.0</td>\n",
       "      <td>2022-12-13 18:00:00</td>\n",
       "    </tr>\n",
       "  </tbody>\n",
       "</table>\n",
       "</div>"
      ],
      "text/plain": [
       "    id      sku    cost  count         actual_date\n",
       "56  57  1000001   324.0  185.0 2022-12-13 18:00:00\n",
       "57  58  1000002  1260.0  305.0 2022-12-13 18:00:00\n",
       "58  59  1000003   472.0  448.0 2022-12-13 18:00:00"
      ]
     },
     "execution_count": 260,
     "metadata": {},
     "output_type": "execute_result"
    }
   ],
   "source": [
    "df.query(\"actual_date == @date\")"
   ]
  },
  {
   "cell_type": "code",
   "execution_count": 244,
   "id": "e8bcc8a0",
   "metadata": {},
   "outputs": [],
   "source": [
    "date = datetime(2022,12,13,18,0,0)\n",
    "date_2 = date - timedelta(days=1)"
   ]
  },
  {
   "cell_type": "code",
   "execution_count": 258,
   "id": "e4c7ee1d",
   "metadata": {},
   "outputs": [
    {
     "data": {
      "text/html": [
       "<div>\n",
       "<style scoped>\n",
       "    .dataframe tbody tr th:only-of-type {\n",
       "        vertical-align: middle;\n",
       "    }\n",
       "\n",
       "    .dataframe tbody tr th {\n",
       "        vertical-align: top;\n",
       "    }\n",
       "\n",
       "    .dataframe thead th {\n",
       "        text-align: right;\n",
       "    }\n",
       "</style>\n",
       "<table border=\"1\" class=\"dataframe\">\n",
       "  <thead>\n",
       "    <tr style=\"text-align: right;\">\n",
       "      <th></th>\n",
       "      <th>sku</th>\n",
       "      <th>median_cost</th>\n",
       "    </tr>\n",
       "  </thead>\n",
       "  <tbody>\n",
       "    <tr>\n",
       "      <th>0</th>\n",
       "      <td>1000001</td>\n",
       "      <td>360.0</td>\n",
       "    </tr>\n",
       "    <tr>\n",
       "      <th>1</th>\n",
       "      <td>1000002</td>\n",
       "      <td>1266.0</td>\n",
       "    </tr>\n",
       "    <tr>\n",
       "      <th>2</th>\n",
       "      <td>1000003</td>\n",
       "      <td>490.0</td>\n",
       "    </tr>\n",
       "  </tbody>\n",
       "</table>\n",
       "</div>"
      ],
      "text/plain": [
       "       sku  median_cost\n",
       "0  1000001        360.0\n",
       "1  1000002       1266.0\n",
       "2  1000003        490.0"
      ]
     },
     "execution_count": 258,
     "metadata": {},
     "output_type": "execute_result"
    }
   ],
   "source": [
    "df.query('actual_date == @date or actual_date == @date_2 & sku != \"1000004\"')\\\n",
    "    .groupby('sku', as_index=False)\\\n",
    "    .agg({'cost': 'median'})\\\n",
    "    .rename(columns={'cost': 'median_cost'})"
   ]
  },
  {
   "cell_type": "code",
   "execution_count": null,
   "id": "32cd35aa",
   "metadata": {},
   "outputs": [],
   "source": []
  }
 ],
 "metadata": {
  "kernelspec": {
   "display_name": "Python 3 (ipykernel)",
   "language": "python",
   "name": "python3"
  },
  "language_info": {
   "codemirror_mode": {
    "name": "ipython",
    "version": 3
   },
   "file_extension": ".py",
   "mimetype": "text/x-python",
   "name": "python",
   "nbconvert_exporter": "python",
   "pygments_lexer": "ipython3",
   "version": "3.9.7"
  }
 },
 "nbformat": 4,
 "nbformat_minor": 5
}
